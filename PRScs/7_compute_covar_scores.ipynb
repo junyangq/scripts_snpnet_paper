{
 "cells": [
  {
   "cell_type": "code",
   "execution_count": 1,
   "metadata": {},
   "outputs": [],
   "source": [
    "suppressWarnings(suppressPackageStartupMessages({\n",
    "    library(tidyverse)\n",
    "    library(data.table)\n",
    "}))\n"
   ]
  },
  {
   "cell_type": "code",
   "execution_count": 2,
   "metadata": {},
   "outputs": [],
   "source": [
    "# in_f\n",
    "phe_f <- '/oak/stanford/groups/mrivas/projects/biobank-methods-dev/snpnet-elastic-net/phenotype.phe'\n",
    "\n",
    "# out\n",
    "out_d <- '/oak/stanford/groups/mrivas/projects/biobank-methods-dev/snpnet-PRScs/covar_betas_train_val'\n",
    "\n",
    "# params\n",
    "covariates <- c('age', 'sex', paste0('PC', 1:10))\n"
   ]
  },
  {
   "cell_type": "code",
   "execution_count": 3,
   "metadata": {},
   "outputs": [],
   "source": [
    "fit_covar_model <- function(df, phe, covariates){\n",
    "    family <- ifelse(str_replace_all(phe, '[0-9]', '') %in% c('INI', 'QT_FC'), 'gaussian', 'binomial')\n",
    "    if(family == 'binomial'){\n",
    "        df[[phe]] <- df[[phe]] - 1\n",
    "    }\n",
    "    \n",
    "    fit <- stats::as.formula(sprintf(\n",
    "        '%s ~ 1 + %s', phe, paste(covariates, collapse =' + ')\n",
    "    )) %>%\n",
    "    glm(family=family, data=df) \n",
    "}"
   ]
  },
  {
   "cell_type": "code",
   "execution_count": 4,
   "metadata": {},
   "outputs": [],
   "source": [
    "fit_to_df <- function(fit){\n",
    "    fit_df <- summary(fit)$coeff %>%\n",
    "    as.data.frame() %>%\n",
    "    rownames_to_column('variable') %>%\n",
    "    mutate(phenotype = phe)\n",
    "\n",
    "    colnames(fit_df)[4] <- 'z_or_t_value'\n",
    "    colnames(fit_df)[5] <- 'P'\n",
    "    \n",
    "    fit_df\n",
    "}\n"
   ]
  },
  {
   "cell_type": "code",
   "execution_count": 5,
   "metadata": {},
   "outputs": [],
   "source": [
    "compute_covar_score <- function(phe_df, fit_df, covariates){\n",
    "    phe_mat <- phe_df %>% \n",
    "    mutate(ID = paste(FID, IID, sep='_')) %>%\n",
    "    column_to_rownames('ID') %>%\n",
    "    select(all_of(covariates)) %>%\n",
    "    as.matrix()\n",
    "    \n",
    "    beta_mat <- fit_df %>%\n",
    "    filter(variable %in% covariates) %>%\n",
    "    column_to_rownames('variable') %>%\n",
    "    select(Estimate) %>%\n",
    "    as.matrix()\n",
    "    \n",
    "    phe_mat %*% beta_mat %>%\n",
    "    as.data.frame() %>%\n",
    "    rownames_to_column('ID') %>%\n",
    "    separate(ID, c('FID', 'IID'))\n",
    "}\n"
   ]
  },
  {
   "cell_type": "code",
   "execution_count": 6,
   "metadata": {},
   "outputs": [],
   "source": [
    "phe_df <- fread(phe_f, colClasses=c('FID'='character', 'IID'='character'))\n"
   ]
  },
  {
   "cell_type": "code",
   "execution_count": 7,
   "metadata": {},
   "outputs": [
    {
     "data": {
      "text/html": [
       "<table>\n",
       "<caption>A data.table: 3 × 2</caption>\n",
       "<thead>\n",
       "\t<tr><th scope=col>split</th><th scope=col>n</th></tr>\n",
       "\t<tr><th scope=col>&lt;chr&gt;</th><th scope=col>&lt;int&gt;</th></tr>\n",
       "</thead>\n",
       "<tbody>\n",
       "\t<tr><td>test </td><td> 67272</td></tr>\n",
       "\t<tr><td>train</td><td>202276</td></tr>\n",
       "\t<tr><td>val  </td><td> 67651</td></tr>\n",
       "</tbody>\n",
       "</table>\n"
      ],
      "text/latex": [
       "A data.table: 3 × 2\n",
       "\\begin{tabular}{ll}\n",
       " split & n\\\\\n",
       " <chr> & <int>\\\\\n",
       "\\hline\n",
       "\t test  &  67272\\\\\n",
       "\t train & 202276\\\\\n",
       "\t val   &  67651\\\\\n",
       "\\end{tabular}\n"
      ],
      "text/markdown": [
       "\n",
       "A data.table: 3 × 2\n",
       "\n",
       "| split &lt;chr&gt; | n &lt;int&gt; |\n",
       "|---|---|\n",
       "| test  |  67272 |\n",
       "| train | 202276 |\n",
       "| val   |  67651 |\n",
       "\n"
      ],
      "text/plain": [
       "  split n     \n",
       "1 test   67272\n",
       "2 train 202276\n",
       "3 val    67651"
      ]
     },
     "metadata": {},
     "output_type": "display_data"
    }
   ],
   "source": [
    "phe_df %>% count(split)"
   ]
  },
  {
   "cell_type": "code",
   "execution_count": 8,
   "metadata": {},
   "outputs": [
    {
     "data": {
      "text/html": [
       "<style>\n",
       ".list-inline {list-style: none; margin:0; padding: 0}\n",
       ".list-inline>li {display: inline-block}\n",
       ".list-inline>li:not(:last-child)::after {content: \"\\00b7\"; padding: 0 .5ex}\n",
       "</style>\n",
       "<ol class=list-inline><li>'FID'</li><li>'IID'</li><li>'age'</li><li>'sex'</li><li>'PC1'</li><li>'PC2'</li><li>'PC3'</li><li>'PC4'</li><li>'PC5'</li><li>'PC6'</li><li>'PC7'</li><li>'PC8'</li><li>'PC9'</li><li>'PC10'</li><li>'split'</li><li>'HC269'</li><li>'HC382'</li><li>'INI50'</li><li>'INI21001'</li></ol>\n"
      ],
      "text/latex": [
       "\\begin{enumerate*}\n",
       "\\item 'FID'\n",
       "\\item 'IID'\n",
       "\\item 'age'\n",
       "\\item 'sex'\n",
       "\\item 'PC1'\n",
       "\\item 'PC2'\n",
       "\\item 'PC3'\n",
       "\\item 'PC4'\n",
       "\\item 'PC5'\n",
       "\\item 'PC6'\n",
       "\\item 'PC7'\n",
       "\\item 'PC8'\n",
       "\\item 'PC9'\n",
       "\\item 'PC10'\n",
       "\\item 'split'\n",
       "\\item 'HC269'\n",
       "\\item 'HC382'\n",
       "\\item 'INI50'\n",
       "\\item 'INI21001'\n",
       "\\end{enumerate*}\n"
      ],
      "text/markdown": [
       "1. 'FID'\n",
       "2. 'IID'\n",
       "3. 'age'\n",
       "4. 'sex'\n",
       "5. 'PC1'\n",
       "6. 'PC2'\n",
       "7. 'PC3'\n",
       "8. 'PC4'\n",
       "9. 'PC5'\n",
       "10. 'PC6'\n",
       "11. 'PC7'\n",
       "12. 'PC8'\n",
       "13. 'PC9'\n",
       "14. 'PC10'\n",
       "15. 'split'\n",
       "16. 'HC269'\n",
       "17. 'HC382'\n",
       "18. 'INI50'\n",
       "19. 'INI21001'\n",
       "\n",
       "\n"
      ],
      "text/plain": [
       " [1] \"FID\"      \"IID\"      \"age\"      \"sex\"      \"PC1\"      \"PC2\"     \n",
       " [7] \"PC3\"      \"PC4\"      \"PC5\"      \"PC6\"      \"PC7\"      \"PC8\"     \n",
       "[13] \"PC9\"      \"PC10\"     \"split\"    \"HC269\"    \"HC382\"    \"INI50\"   \n",
       "[19] \"INI21001\""
      ]
     },
     "metadata": {},
     "output_type": "display_data"
    }
   ],
   "source": [
    "phe_df %>% colnames()"
   ]
  },
  {
   "cell_type": "code",
   "execution_count": 9,
   "metadata": {},
   "outputs": [],
   "source": [
    "fit_dfs <- list()\n",
    "covar_dfs <- list()\n",
    "\n",
    "for(phe in c('HC269', 'HC382', 'INI50', 'INI21001')){\n",
    "    fit_dfs[[phe]] <- phe_df %>%\n",
    "    filter(split %in% c('train', 'val')) %>%\n",
    "    fit_covar_model(phe, covariates) %>%\n",
    "    fit_to_df()\n",
    "\n",
    "    covar_dfs[[phe]] <- phe_df %>%\n",
    "    compute_covar_score(fit_dfs[[phe]], covariates)    \n",
    "}\n"
   ]
  },
  {
   "cell_type": "code",
   "execution_count": 10,
   "metadata": {},
   "outputs": [],
   "source": [
    "for(phe in c('HC269', 'HC382', 'INI50', 'INI21001')){\n",
    "    fit_dfs[[phe]] %>%\n",
    "    rename('#variable'='variable') %>%\n",
    "    fwrite(file.path(out_d, sprintf('%s.covar.betas.tsv', phe)), sep='\\t', na = \"NA\", quote=F)\n",
    "\n",
    "    covar_dfs[[phe]] %>%\n",
    "    rename('#FID'='FID') %>%\n",
    "    fwrite(file.path(out_d, sprintf('%s.covar.scores.tsv', phe)), sep='\\t', na = \"NA\", quote=F)\n",
    "}\n"
   ]
  },
  {
   "cell_type": "code",
   "execution_count": null,
   "metadata": {},
   "outputs": [],
   "source": []
  }
 ],
 "metadata": {
  "kernelspec": {
   "display_name": "R",
   "language": "R",
   "name": "ir"
  },
  "language_info": {
   "codemirror_mode": "r",
   "file_extension": ".r",
   "mimetype": "text/x-r-source",
   "name": "R",
   "pygments_lexer": "r",
   "version": "3.6.2"
  }
 },
 "nbformat": 4,
 "nbformat_minor": 4
}
