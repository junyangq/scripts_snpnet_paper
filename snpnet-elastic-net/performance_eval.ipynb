{
 "cells": [
  {
   "cell_type": "code",
   "execution_count": 1,
   "metadata": {},
   "outputs": [],
   "source": [
    "suppressWarnings(suppressPackageStartupMessages({\n",
    "    library(tidyverse)\n",
    "    library(data.table)\n",
    "}))\n"
   ]
  },
  {
   "cell_type": "code",
   "execution_count": 2,
   "metadata": {},
   "outputs": [],
   "source": [
    "# input\n",
    "data_d <- '/oak/stanford/groups/mrivas/projects/biobank-methods-dev/snpnet-elastic-net'\n",
    "phe_f  <- file.path(data_d, 'phenotype.phe')\n",
    "\n",
    "# constants\n",
    "covars <- c('age', 'sex', paste0('PC', 1:10))\n",
    "alphas <- c(0, 0.1, 0.5, 0.9)\n",
    "\n",
    "# output\n",
    "out_f <- 'snpnet-elastic-net.eval.tsv'\n"
   ]
  },
  {
   "cell_type": "code",
   "execution_count": 3,
   "metadata": {},
   "outputs": [],
   "source": [
    "read_PRS <- function(GBE_ID, alpha, data_dir=data_d){\n",
    "    sscore_f <- file.path(\n",
    "        data_dir,\n",
    "        sprintf('%s_%s', GBE_ID, alpha),\n",
    "        sprintf('%s.sscore.zst', GBE_ID)\n",
    "    )\n",
    "    fread(\n",
    "        cmd=paste('zstdcat', sscore_f),\n",
    "        select=c('#FID', 'IID', 'SCORE1_SUM'),\n",
    "        colClasses=c('#FID'='character', 'IID'='character')\n",
    "    ) %>%\n",
    "    rename('FID'='#FID', 'geno_score'='SCORE1_SUM')\n",
    "}\n"
   ]
  },
  {
   "cell_type": "code",
   "execution_count": 4,
   "metadata": {},
   "outputs": [],
   "source": [
    "read_covars <- function(GBE_ID, alpha, data_dir=data_d){\n",
    "    file.path(\n",
    "        data_dir,\n",
    "        sprintf('%s_%s', GBE_ID, alpha),\n",
    "        'snpnet.covars.tsv'\n",
    "    ) %>%\n",
    "    fread(colClasses=c('ID'='character')) %>%\n",
    "    column_to_rownames('ID')\n",
    "}\n"
   ]
  },
  {
   "cell_type": "code",
   "execution_count": 5,
   "metadata": {},
   "outputs": [],
   "source": [
    "read_BETAs <- function(GBE_ID, alpha, data_dir=data_d){\n",
    "    file.path(\n",
    "        data_dir,\n",
    "        sprintf('%s_%s', GBE_ID, alpha),\n",
    "        'snpnet.tsv'\n",
    "    ) %>%\n",
    "    fread(colClasses=c('ID'='character'))\n",
    "}\n"
   ]
  },
  {
   "cell_type": "code",
   "execution_count": 6,
   "metadata": {},
   "outputs": [],
   "source": [
    "read_predicted_scores <- function(phe_df, GBE_ID, alpha, covariates=covars){\n",
    "    covar_df <- read_covars(GBE_ID, alpha)\n",
    "    as.matrix(\n",
    "        phe_df %>% select(all_of(covariates))\n",
    "    ) %*% as.matrix(covar_df) %>%\n",
    "    as.data.frame() %>%\n",
    "    rownames_to_column('ID') %>%\n",
    "    separate(ID, c('FID', 'IID')) %>% \n",
    "    rename('covar_score'='BETA') %>%\n",
    "    left_join(\n",
    "        phe_df %>% select(FID, IID, split, all_of(GBE_ID)),\n",
    "        by=c('FID', 'IID')\n",
    "    ) %>%\n",
    "    left_join(\n",
    "        read_PRS(GBE_ID, alpha),\n",
    "        by=c('FID', 'IID')\n",
    "    ) %>%\n",
    "    mutate(\n",
    "        geno_covar_score = geno_score + covar_score\n",
    "    )\n",
    "}\n"
   ]
  },
  {
   "cell_type": "code",
   "execution_count": 7,
   "metadata": {},
   "outputs": [],
   "source": [
    "perform_eval <- function(response, pred, metric.type){\n",
    "    if(metric.type == 'r2'){\n",
    "        summary(lm(response ~ 1 + pred))$r.squared\n",
    "    }else{\n",
    "#         pROC::auc(pROC::roc(response, pred))        \n",
    "        pred.obj <- ROCR::prediction(pred, factor(response - 1))\n",
    "        auc.obj <- ROCR::performance(pred.obj, measure = 'auc')\n",
    "        auc.obj@y.values[[1]]\n",
    "    }\n",
    "}\n"
   ]
  },
  {
   "cell_type": "code",
   "execution_count": 8,
   "metadata": {},
   "outputs": [],
   "source": [
    "build_eval_df <- function(phe_df, GBE_ID, alpha, split_string, metric.type){\n",
    "    score_test_df <- phe_df %>%\n",
    "    read_predicted_scores(GBE_ID, alpha) %>%\n",
    "    filter(split == split_string) %>%\n",
    "    drop_na(all_of(GBE_ID)) %>%\n",
    "    filter(GBE_ID != -9)\n",
    "\n",
    "    data.frame(\n",
    "        GBE_ID     = GBE_ID,\n",
    "        alpha      = alpha,\n",
    "        n_variables = read_BETAs(GBE_ID, alpha) %>% nrow(),\n",
    "        geno       = perform_eval(\n",
    "            score_test_df[[GBE_ID]],\n",
    "            score_test_df$geno_score,\n",
    "            metric.type\n",
    "        ),\n",
    "        covar      = perform_eval(\n",
    "            score_test_df[[GBE_ID]],\n",
    "            score_test_df$covar_score,\n",
    "            metric.type\n",
    "        ),\n",
    "        geno_covar = perform_eval(\n",
    "            score_test_df[[GBE_ID]],\n",
    "            score_test_df$geno_covar_score,\n",
    "            metric.type\n",
    "        ),\n",
    "        stringsAsFactors = F\n",
    "    )    \n",
    "}\n"
   ]
  },
  {
   "cell_type": "code",
   "execution_count": 9,
   "metadata": {},
   "outputs": [],
   "source": [
    "get_eval_df <- function(phe_df, alphas, split_string){\n",
    "    eval_df <- bind_rows(\n",
    "        alphas %>% lapply(function(alpha){ tryCatch({ \n",
    "            phe_df %>% build_eval_df('INI50', alpha, split_string, 'r2')\n",
    "        }, error=function(e){})}) %>% bind_rows(),\n",
    "\n",
    "        alphas %>% lapply(function(alpha){ tryCatch({ \n",
    "            phe_df %>% build_eval_df('INI21001', alpha, split_string, 'r2')\n",
    "        }, error=function(e){})}) %>% bind_rows(),\n",
    "\n",
    "        alphas %>% lapply(function(alpha){ tryCatch({ \n",
    "            phe_df %>% build_eval_df('HC269', alpha, split_string, 'auc')\n",
    "        }, error=function(e){})}) %>% bind_rows(),\n",
    "\n",
    "        alphas %>% lapply(function(alpha){ tryCatch({ \n",
    "            phe_df %>% build_eval_df('HC382', alpha, split_string, 'auc')\n",
    "        }, error=function(e){})}) %>% bind_rows()\n",
    "    )\n",
    "}\n"
   ]
  },
  {
   "cell_type": "markdown",
   "metadata": {},
   "source": [
    "## compute the performance metric"
   ]
  },
  {
   "cell_type": "code",
   "execution_count": 10,
   "metadata": {},
   "outputs": [],
   "source": [
    "phe_df <- fread(phe_f, colClasses=c('FID'='character', 'IID'='character')) %>%\n",
    "mutate(ID = paste(FID, IID, sep='_')) %>%\n",
    "column_to_rownames('ID')\n"
   ]
  },
  {
   "cell_type": "code",
   "execution_count": 11,
   "metadata": {},
   "outputs": [],
   "source": [
    "eval_df <- bind_rows(\n",
    "    phe_df %>% get_eval_df(alphas, 'train') %>% mutate(split = 'train'),\n",
    "    phe_df %>% get_eval_df(alphas, 'val')   %>% mutate(split = 'val'),\n",
    "    phe_df %>% get_eval_df(alphas, 'test')  %>% mutate(split = 'test')\n",
    ")\n"
   ]
  },
  {
   "cell_type": "code",
   "execution_count": 13,
   "metadata": {},
   "outputs": [],
   "source": [
    "eval_df %>%\n",
    "fwrite(out_f, sep='\\t', na = \"NA\", quote=F)\n"
   ]
  },
  {
   "cell_type": "markdown",
   "metadata": {},
   "source": [
    "## visualization"
   ]
  },
  {
   "cell_type": "code",
   "execution_count": 14,
   "metadata": {},
   "outputs": [],
   "source": [
    "trait_names <- data.frame(\n",
    "    trait  = c('Standing height', 'Body mass index', 'High cholesterol', 'Asthma'),\n",
    "    GBE_ID = c('INI50', 'INI21001', 'HC269', 'HC382'),\n",
    "    stringsAsFactors=F\n",
    ")\n"
   ]
  },
  {
   "cell_type": "code",
   "execution_count": 15,
   "metadata": {},
   "outputs": [],
   "source": [
    "p_pred <- eval_df %>%\n",
    "filter(split == 'test') %>%\n",
    "left_join(trait_names, by='GBE_ID') %>%\n",
    "mutate(label = sprintf('%.4f\\n(%d)', geno_covar, n_variables))%>%\n",
    "ggplot(aes(x=as.factor(alpha), y=geno_covar, color=as.factor(alpha), fill=as.factor(alpha))) +\n",
    "geom_bar(stat=\"identity\") + \n",
    "theme_bw() +\n",
    "geom_text(aes(label=label), vjust=1.2, color=\"white\", size=3.5)+\n",
    "theme(legend.position='none')+\n",
    "labs(\n",
    "    x = 'alpha parameter in elastic net',\n",
    "    y = 'Predictive performance (w/ genetics + covariates) on the test set (R2 or AUC)',\n",
    "    title = 'Predictive performance and the number of genetic features in snpnet-elasticnet'\n",
    ")+\n",
    "# geom_text(aes(label=round(geno_covar, 4)), vjust=1.6, color=\"white\", size=3.5)+\n",
    "facet_wrap(~trait)\n"
   ]
  },
  {
   "cell_type": "code",
   "execution_count": 16,
   "metadata": {},
   "outputs": [],
   "source": [
    "p_size <- eval_df %>%\n",
    "filter(split == 'test') %>%\n",
    "left_join(trait_names, by='GBE_ID') %>%\n",
    "mutate(label = sprintf('%d\\n(%.4f)', n_variables, geno_covar))%>%\n",
    "ggplot(aes(x=as.factor(alpha), y=n_variables, color=as.factor(alpha), fill=as.factor(alpha))) +\n",
    "geom_bar(stat=\"identity\") + \n",
    "theme_bw() +\n",
    "geom_text(aes(label=label), vjust=0.65, color=\"black\", size=3.5)+\n",
    "theme(legend.position='none')+\n",
    "labs(\n",
    "    x = 'alpha parameter in elastic net',\n",
    "    y = 'The number of non-zero BETAs in genetic features',\n",
    "    title = 'Predictive performance and the number of genetic features in snpnet-elasticnet'\n",
    ")+\n",
    "# geom_text(aes(label=round(geno_covar, 4)), vjust=1.6, color=\"white\", size=3.5)+\n",
    "facet_wrap(~trait)\n"
   ]
  },
  {
   "cell_type": "code",
   "execution_count": 17,
   "metadata": {},
   "outputs": [
    {
     "name": "stderr",
     "output_type": "stream",
     "text": [
      "Saving 6.67 x 6.67 in image\n",
      "Saving 6.67 x 6.67 in image\n"
     ]
    }
   ],
   "source": [
    "ggsave(\n",
    "    '20200527_elasticnet-ridge-plot.1.png', p_pred\n",
    ")\n",
    "\n",
    "ggsave(\n",
    "    '20200527_elasticnet-ridge-plot.2.png', p_size\n",
    ")\n"
   ]
  },
  {
   "cell_type": "code",
   "execution_count": null,
   "metadata": {},
   "outputs": [],
   "source": []
  }
 ],
 "metadata": {
  "kernelspec": {
   "display_name": "R",
   "language": "R",
   "name": "ir"
  },
  "language_info": {
   "codemirror_mode": "r",
   "file_extension": ".r",
   "mimetype": "text/x-r-source",
   "name": "R",
   "pygments_lexer": "r",
   "version": "3.6.1"
  }
 },
 "nbformat": 4,
 "nbformat_minor": 4
}
