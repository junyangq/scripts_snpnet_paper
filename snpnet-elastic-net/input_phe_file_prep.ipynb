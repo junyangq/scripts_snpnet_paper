{
 "cells": [
  {
   "cell_type": "code",
   "execution_count": 1,
   "metadata": {},
   "outputs": [
    {
     "name": "stderr",
     "output_type": "stream",
     "text": [
      "Warning message:\n",
      "“package ‘ggplot2’ was built under R version 3.6.2”Warning message:\n",
      "“package ‘tibble’ was built under R version 3.6.3”Warning message:\n",
      "“package ‘tidyr’ was built under R version 3.6.2”Warning message:\n",
      "“package ‘dplyr’ was built under R version 3.6.2”Warning message:\n",
      "“package ‘forcats’ was built under R version 3.6.2”"
     ]
    }
   ],
   "source": [
    "suppressPackageStartupMessages(library(tidyverse))\n",
    "suppressPackageStartupMessages(library(data.table))\n"
   ]
  },
  {
   "cell_type": "code",
   "execution_count": 43,
   "metadata": {},
   "outputs": [],
   "source": [
    "elastic_net_phe_f <- '/oak/stanford/groups/mrivas/projects/biobank-methods-dev/snpnet-elastic-net/phenotype.phe'\n"
   ]
  },
  {
   "cell_type": "code",
   "execution_count": 3,
   "metadata": {},
   "outputs": [],
   "source": [
    "gwas_covar_f <- '/oak/stanford/groups/mrivas/ukbb24983/sqc/population_stratification_w24983_20190809/ukb24983_GWAS_covar.20190809.phe'\n"
   ]
  },
  {
   "cell_type": "code",
   "execution_count": 6,
   "metadata": {},
   "outputs": [],
   "source": [
    "split_d <- '/oak/stanford/groups/mrivas/users/ytanigaw/repos/rivas-lab/biobank-methods-dev/private_data/data-split'\n"
   ]
  },
  {
   "cell_type": "code",
   "execution_count": 4,
   "metadata": {},
   "outputs": [],
   "source": [
    "gwas_covar_df <- fread(\n",
    "    gwas_covar_f,\n",
    "    select=c('FID', 'IID', 'age', 'sex', paste0('PC', 1:10)),\n",
    "    colClasses=c('FID'='character', 'IID'='character')\n",
    ")\n"
   ]
  },
  {
   "cell_type": "code",
   "execution_count": 13,
   "metadata": {},
   "outputs": [],
   "source": [
    "split_df <- c('train', 'val', 'test') %>%\n",
    "lapply(function(s){\n",
    "    fread(\n",
    "        file.path(split_d, sprintf('%s.fam', s)), \n",
    "        colClasses='character'\n",
    "    ) %>%\n",
    "    select(V1, V2) %>%\n",
    "    rename('FID'='V1', 'IID'='V2') %>%\n",
    "    mutate(split = s)\n",
    "}) %>%\n",
    "bind_rows()\n"
   ]
  },
  {
   "cell_type": "code",
   "execution_count": 22,
   "metadata": {},
   "outputs": [],
   "source": [
    "HC269_df <- fread(\n",
    "    '/oak/stanford/groups/mrivas/ukbb24983/phenotypedata/extras/highconfidenceqc/v1_2017/phe/HC269.phe',\n",
    "    colClasses=c('character', 'character', 'numeric')\n",
    ")\n",
    "colnames(HC269_df) <- c('FID', 'IID', 'HC269')\n",
    "\n",
    "HC382_df <- fread(\n",
    "    '/oak/stanford/groups/mrivas/ukbb24983/phenotypedata/extras/highconfidenceqc/v1_2017/phe/HC382.phe',\n",
    "    colClasses=c('character', 'character', 'numeric')\n",
    ")\n",
    "colnames(HC382_df) <- c('FID', 'IID', 'HC382')\n"
   ]
  },
  {
   "cell_type": "code",
   "execution_count": 29,
   "metadata": {},
   "outputs": [],
   "source": [
    "INI50_df <- fread(\n",
    "    '/oak/stanford/groups/mrivas/projects/biobank-methods-dev/snpnet-elastic-net/INI50.phe',\n",
    "    colClasses=c('character', 'character', 'numeric')\n",
    ") %>%\n",
    "mutate(V3 = na_if(V3, -9))\n",
    "colnames(INI50_df) <- c('FID', 'IID', 'INI50')\n",
    "\n",
    "INI21001_df <- fread(\n",
    "    '/oak/stanford/groups/mrivas/projects/biobank-methods-dev/snpnet-elastic-net/INI21001.phe',\n",
    "    colClasses=c('character', 'character', 'numeric')\n",
    ") %>%\n",
    "mutate(V3 = na_if(V3, -9))\n",
    "colnames(INI21001_df) <- c('FID', 'IID', 'INI21001')\n",
    "\n"
   ]
  },
  {
   "cell_type": "code",
   "execution_count": 40,
   "metadata": {},
   "outputs": [],
   "source": [
    "df <- gwas_covar_df %>%\n",
    "left_join(split_df, by=c('FID', 'IID')) %>%\n",
    "left_join(HC269_df, by=c('FID', 'IID')) %>%\n",
    "left_join(HC382_df, by=c('FID', 'IID')) %>%\n",
    "left_join(INI50_df, by=c('FID', 'IID')) %>%\n",
    "left_join(INI21001_df, by=c('FID', 'IID'))\n"
   ]
  },
  {
   "cell_type": "code",
   "execution_count": 42,
   "metadata": {},
   "outputs": [
    {
     "data": {
      "text/html": [
       "<table>\n",
       "<caption>A tibble: 4 × 2</caption>\n",
       "<thead>\n",
       "\t<tr><th scope=col>split</th><th scope=col>n</th></tr>\n",
       "\t<tr><th scope=col>&lt;chr&gt;</th><th scope=col>&lt;int&gt;</th></tr>\n",
       "</thead>\n",
       "<tbody>\n",
       "\t<tr><td>test </td><td> 67272</td></tr>\n",
       "\t<tr><td>train</td><td>202276</td></tr>\n",
       "\t<tr><td>val  </td><td> 67651</td></tr>\n",
       "\t<tr><td>NA   </td><td>151178</td></tr>\n",
       "</tbody>\n",
       "</table>\n"
      ],
      "text/latex": [
       "A tibble: 4 × 2\n",
       "\\begin{tabular}{ll}\n",
       " split & n\\\\\n",
       " <chr> & <int>\\\\\n",
       "\\hline\n",
       "\t test  &  67272\\\\\n",
       "\t train & 202276\\\\\n",
       "\t val   &  67651\\\\\n",
       "\t NA    & 151178\\\\\n",
       "\\end{tabular}\n"
      ],
      "text/markdown": [
       "\n",
       "A tibble: 4 × 2\n",
       "\n",
       "| split &lt;chr&gt; | n &lt;int&gt; |\n",
       "|---|---|\n",
       "| test  |  67272 |\n",
       "| train | 202276 |\n",
       "| val   |  67651 |\n",
       "| NA    | 151178 |\n",
       "\n"
      ],
      "text/plain": [
       "  split n     \n",
       "1 test   67272\n",
       "2 train 202276\n",
       "3 val    67651\n",
       "4 NA    151178"
      ]
     },
     "metadata": {},
     "output_type": "display_data"
    }
   ],
   "source": [
    "df %>% count(split)"
   ]
  },
  {
   "cell_type": "code",
   "execution_count": 46,
   "metadata": {},
   "outputs": [],
   "source": [
    "df %>%\n",
    "drop_na(split) %>%\n",
    "fwrite(elastic_net_phe_f, sep='\\t', na = \"NA\", quote=F)\n"
   ]
  },
  {
   "cell_type": "code",
   "execution_count": null,
   "metadata": {},
   "outputs": [],
   "source": []
  }
 ],
 "metadata": {
  "kernelspec": {
   "display_name": "R",
   "language": "R",
   "name": "ir"
  },
  "language_info": {
   "codemirror_mode": "r",
   "file_extension": ".r",
   "mimetype": "text/x-r-source",
   "name": "R",
   "pygments_lexer": "r",
   "version": "3.6.1"
  }
 },
 "nbformat": 4,
 "nbformat_minor": 4
}
