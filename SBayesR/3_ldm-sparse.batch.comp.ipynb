{
 "cells": [
  {
   "cell_type": "code",
   "execution_count": 1,
   "metadata": {},
   "outputs": [],
   "source": [
    "suppressWarnings(suppressPackageStartupMessages({\n",
    "    library(tidyverse)\n",
    "    library(data.table)\n",
    "}))\n"
   ]
  },
  {
   "cell_type": "markdown",
   "metadata": {},
   "source": [
    "# ldm computation task\n",
    "\n",
    "- We compute the ldm matrix with an array job.\n",
    "- Each task takes up to 5000 variants.\n",
    "- This notebook generates the `3_ldm-sparse.batch.tsv` file, which will be used as an index file in our job script (to specify the range of snps)."
   ]
  },
  {
   "cell_type": "code",
   "execution_count": 8,
   "metadata": {},
   "outputs": [],
   "source": [
    "df <- fread('2_bfile_nvars.tsv', col.names=c('chr', 'nvars', 'bim')) %>% select(-bim)\n"
   ]
  },
  {
   "cell_type": "code",
   "execution_count": 20,
   "metadata": {},
   "outputs": [],
   "source": [
    "df %>%\n",
    "mutate(\n",
    "    nbatch = ceiling(nvars/5000),\n",
    "    start_idx = cumsum(nbatch) - nbatch + 1,\n",
    "    end_idx = start_idx + nbatch - 1\n",
    ") %>%\n",
    "fwrite('3_ldm-sparse.batch.tsv', sep='\\t')\n"
   ]
  },
  {
   "cell_type": "code",
   "execution_count": null,
   "metadata": {},
   "outputs": [],
   "source": []
  }
 ],
 "metadata": {
  "kernelspec": {
   "display_name": "R",
   "language": "R",
   "name": "ir"
  },
  "language_info": {
   "codemirror_mode": "r",
   "file_extension": ".r",
   "mimetype": "text/x-r-source",
   "name": "R",
   "pygments_lexer": "r",
   "version": "3.6.1"
  }
 },
 "nbformat": 4,
 "nbformat_minor": 4
}
