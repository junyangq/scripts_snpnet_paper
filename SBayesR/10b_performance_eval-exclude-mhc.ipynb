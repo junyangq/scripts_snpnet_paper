{
 "cells": [
  {
   "cell_type": "code",
   "execution_count": 1,
   "metadata": {},
   "outputs": [],
   "source": [
    "suppressWarnings(suppressPackageStartupMessages({\n",
    "    library(tidyverse)\n",
    "    library(data.table)\n",
    "}))\n"
   ]
  },
  {
   "cell_type": "code",
   "execution_count": 2,
   "metadata": {},
   "outputs": [],
   "source": [
    "# input\n",
    "phe_f <- '/oak/stanford/groups/mrivas/projects/biobank-methods-dev/snpnet-elastic-net/phenotype.phe'\n",
    "PRS_d <- '/oak/stanford/groups/mrivas/projects/biobank-methods-dev/snpnet-SBayesR/SBayesR-exclude-mhc'\n",
    "covar_score_d <- '/oak/stanford/groups/mrivas/projects/biobank-methods-dev/snpnet-PRScs/covar_betas_train_val'\n",
    "\n",
    "# constants\n",
    "covars <- c('age', 'sex', paste0('PC', 1:10))\n",
    "\n",
    "# output\n",
    "out_f <- 'SBayesR-exclude-mhc.eval.tsv'\n"
   ]
  },
  {
   "cell_type": "code",
   "execution_count": 3,
   "metadata": {},
   "outputs": [],
   "source": [
    "read_BETAs <- function(beta_f){\n",
    "    fread(beta_f)\n",
    "}\n"
   ]
  },
  {
   "cell_type": "code",
   "execution_count": 4,
   "metadata": {},
   "outputs": [],
   "source": [
    "read_PRS <- function(sscore_f){\n",
    "    fread(\n",
    "        cmd=paste('zstdcat', sscore_f),\n",
    "        select=c('#FID', 'IID', 'SCORE1_SUM'),\n",
    "        colClasses=c('#FID'='character', 'IID'='character')\n",
    "    ) %>%\n",
    "    rename('FID'='#FID', 'geno_score'='SCORE1_SUM')\n",
    "}\n"
   ]
  },
  {
   "cell_type": "code",
   "execution_count": 5,
   "metadata": {},
   "outputs": [],
   "source": [
    "read_covar_score <- function(covar_score_f){\n",
    "    fread(\n",
    "        cmd=paste('zstdcat', covar_score_f),\n",
    "        select=c('#FID', 'IID', 'Estimate'),\n",
    "        colClasses=c('#FID'='character', 'IID'='character')\n",
    "    ) %>%\n",
    "    rename('FID'='#FID', 'covar_score'='Estimate')\n",
    "    \n",
    "}\n"
   ]
  },
  {
   "cell_type": "code",
   "execution_count": 6,
   "metadata": {},
   "outputs": [],
   "source": [
    "perform_eval <- function(response, pred, metric.type){\n",
    "    if(metric.type == 'r2'){\n",
    "        summary(lm(response ~ 1 + pred))$r.squared\n",
    "    }else{\n",
    "#         pROC::auc(pROC::roc(response, pred))        \n",
    "        pred.obj <- ROCR::prediction(pred, factor(response - 1))\n",
    "        auc.obj <- ROCR::performance(pred.obj, measure = 'auc')\n",
    "        auc.obj@y.values[[1]]\n",
    "    }\n",
    "}\n"
   ]
  },
  {
   "cell_type": "code",
   "execution_count": 7,
   "metadata": {},
   "outputs": [],
   "source": [
    "phe_df <- fread(phe_f, colClasses=c('FID'='character', 'IID'='character')) %>%\n",
    "mutate(ID = paste(FID, IID, sep='_')) %>%\n",
    "column_to_rownames('ID')\n"
   ]
  },
  {
   "cell_type": "code",
   "execution_count": 8,
   "metadata": {},
   "outputs": [],
   "source": [
    "eval_df <- c('INI50', 'INI21001', 'HC269', 'HC382') %>%\n",
    "lapply(function(phe){\n",
    "    metric.type <- ifelse(str_replace_all(phe, '[0-9]', '') %in% c('INI', 'QT_FC'), 'r2', 'auc')\n",
    "\n",
    "    df <- phe_df %>% \n",
    "    select(all_of(c('FID', 'IID', phe, 'split'))) %>%\n",
    "    rename(!!'phe' := all_of(phe)) %>%\n",
    "    left_join(\n",
    "        read_PRS(file.path(PRS_d, sprintf('%s.sscore.zst', phe))),\n",
    "        by=c(\"FID\", \"IID\")\n",
    "    ) %>%\n",
    "    left_join(\n",
    "        read_covar_score(file.path(covar_score_d, sprintf('%s.covar.scores.tsv', phe))), \n",
    "        by=c(\"FID\", \"IID\")\n",
    "    ) %>%\n",
    "    mutate(geno_covar_score = geno_score + covar_score) %>%\n",
    "    drop_na(phe) %>%\n",
    "    filter(phe != -9)\n",
    "\n",
    "    c('train', 'val', 'test') %>%\n",
    "    lapply(function(split_string){\n",
    "        score_test_df <- df %>%\n",
    "        filter(split == split_string)\n",
    "\n",
    "        data.frame(\n",
    "            phe     = phe,\n",
    "            n_variables = read_BETAs(\n",
    "                file.path(PRS_d, sprintf('%s.snpRes.plink.tsv', phe))\n",
    "            ) %>% nrow(),\n",
    "            geno       = perform_eval(\n",
    "                score_test_df$phe,\n",
    "                score_test_df$geno_score,\n",
    "                metric.type\n",
    "            ),\n",
    "            covar      = perform_eval(\n",
    "                score_test_df$phe,\n",
    "                score_test_df$covar_score,\n",
    "                metric.type\n",
    "            ),\n",
    "            geno_covar = perform_eval(\n",
    "                score_test_df$phe,\n",
    "                score_test_df$geno_covar_score,\n",
    "                metric.type\n",
    "            ),\n",
    "            split=split_string,\n",
    "            stringsAsFactors = F\n",
    "        )    \n",
    "    }) %>% bind_rows()\n",
    "}) %>% bind_rows()\n"
   ]
  },
  {
   "cell_type": "code",
   "execution_count": 9,
   "metadata": {},
   "outputs": [],
   "source": [
    "eval_df %>%\n",
    "fwrite(out_f, sep='\\t', na = \"NA\", quote=F)\n"
   ]
  },
  {
   "cell_type": "code",
   "execution_count": null,
   "metadata": {},
   "outputs": [],
   "source": []
  }
 ],
 "metadata": {
  "kernelspec": {
   "display_name": "R",
   "language": "R",
   "name": "ir"
  },
  "language_info": {
   "codemirror_mode": "r",
   "file_extension": ".r",
   "mimetype": "text/x-r-source",
   "name": "R",
   "pygments_lexer": "r",
   "version": "3.6.1"
  }
 },
 "nbformat": 4,
 "nbformat_minor": 4
}
